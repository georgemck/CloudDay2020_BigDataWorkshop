{
  "nbformat": 4,
  "nbformat_minor": 0,
  "metadata": {
    "colab": {
      "name": "Data Engineering Sample using Meetup JSON.ipynb",
      "provenance": [],
      "collapsed_sections": [],
      "toc_visible": true
    },
    "kernelspec": {
      "name": "python3",
      "display_name": "Python 3"
    }
  },
  "cells": [
    {
      "cell_type": "markdown",
      "metadata": {
        "id": "HxPbbhQyvBhg",
        "colab_type": "text"
      },
      "source": [
        "# Meetup Websocket Stream Capture\n",
        "\n",
        "#### Data Engieering sample project obtaining real data and using for analysis. Using RSVP of members from popular [Meetup](https://www.meetup.com/) online platform.  \n",
        "#### Real world example where production would use cloud technology to save the unstructured data and use distributed computing for GB/PB size datasets. Out dataset will be small to demo.\n",
        "##*Getting the data*\n",
        "- open Google Chrome tab\n",
        "- paste url: http://stream.meetup.com/2/rsvps (don't hit enter quite yet)\n",
        "- Go to \"Customize and control Google Chome\"...\"More Tools\"...\"Developer Tools\"...under \"Networking\" tab...click WS (websockets)...Show Overview On\n",
        "- Hit Enter\n",
        "- Observe the time and wait untill a minute passes\n",
        "- CTRL-A to select all...CTRL-C for copy...open notepad or any text editor...CTRL-V for paste and save as as meetup_data.txt \n",
        "\n",
        "##*Load the file into Google Colab*\n",
        "- Login to Google Drive or sign up for a gmail account\n",
        "- open Google Colab through New...More...Google Claboratory \n",
        "- Create new .ipynb file\n",
        "- go to Folder icon and upload the data file\n",
        "\n",
        "##*Learn more for free*\n",
        "- [Kaggle](https://www.kaggle.com/learn/overview)\n",
        "- [LA Country Library](https://lacountylibrary.org/learn/)\n",
        "- [Google Colab](https://colab.research.google.com/notebooks/intro.ipynb)\n",
        "- [Google Machine Learning](https://developers.google.com/machine-learning/crash-course/)\n",
        "\n"
      ]
    },
    {
      "cell_type": "code",
      "metadata": {
        "id": "qIKYUb2UlRYO",
        "colab_type": "code",
        "outputId": "f4676a47-e3d8-4e33-c8a9-bfcc48967b93",
        "colab": {
          "resources": {
            "http://localhost:8080/nbextensions/google.colab/files.js": {
              "data": "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",
              "ok": true,
              "headers": [
                [
                  "content-type",
                  "application/javascript"
                ]
              ],
              "status": 200,
              "status_text": ""
            }
          },
          "base_uri": "https://localhost:8080/",
          "height": 74
        }
      },
      "source": [
        "from google.colab import files\n",
        "uploaded = files.upload()"
      ],
      "execution_count": 0,
      "outputs": [
        {
          "output_type": "display_data",
          "data": {
            "text/html": [
              "\n",
              "     <input type=\"file\" id=\"files-c6f79401-9383-4f6f-ad63-2b6308424587\" name=\"files[]\" multiple disabled />\n",
              "     <output id=\"result-c6f79401-9383-4f6f-ad63-2b6308424587\">\n",
              "      Upload widget is only available when the cell has been executed in the\n",
              "      current browser session. Please rerun this cell to enable.\n",
              "      </output>\n",
              "      <script src=\"/nbextensions/google.colab/files.js\"></script> "
            ],
            "text/plain": [
              "<IPython.core.display.HTML object>"
            ]
          },
          "metadata": {
            "tags": []
          }
        },
        {
          "output_type": "stream",
          "text": [
            "Saving meetup_data.txt to meetup_data (1).txt\n"
          ],
          "name": "stdout"
        }
      ]
    },
    {
      "cell_type": "code",
      "metadata": {
        "id": "HmTneoBC6JAO",
        "colab_type": "code",
        "colab": {}
      },
      "source": [
        "# Importing libraries \n",
        "import pandas as pd\n",
        "import matplotlib\n",
        "import json\n",
        "from pandas import json_normalize"
      ],
      "execution_count": 0,
      "outputs": []
    },
    {
      "cell_type": "code",
      "metadata": {
        "id": "dAnVZN6o-i_J",
        "colab_type": "code",
        "outputId": "6c0eaef3-b5cd-482c-88ed-66d8f8ae67db",
        "colab": {
          "base_uri": "https://localhost:8080/",
          "height": 589
        }
      },
      "source": [
        "# Loading the file and creating a dataframe, first step to structure the data\n",
        "with open('meetup_data.txt') as json_file:      \n",
        "    data = json_file.readlines()\n",
        "    data = list(map(json.loads, data)) \n",
        "\n",
        "meetup_df = pd.DataFrame(data)\n",
        "meetup_df"
      ],
      "execution_count": 0,
      "outputs": [
        {
          "output_type": "execute_result",
          "data": {
            "text/html": [
              "<div>\n",
              "<style scoped>\n",
              "    .dataframe tbody tr th:only-of-type {\n",
              "        vertical-align: middle;\n",
              "    }\n",
              "\n",
              "    .dataframe tbody tr th {\n",
              "        vertical-align: top;\n",
              "    }\n",
              "\n",
              "    .dataframe thead th {\n",
              "        text-align: right;\n",
              "    }\n",
              "</style>\n",
              "<table border=\"1\" class=\"dataframe\">\n",
              "  <thead>\n",
              "    <tr style=\"text-align: right;\">\n",
              "      <th></th>\n",
              "      <th>venue</th>\n",
              "      <th>visibility</th>\n",
              "      <th>response</th>\n",
              "      <th>guests</th>\n",
              "      <th>member</th>\n",
              "      <th>rsvp_id</th>\n",
              "      <th>mtime</th>\n",
              "      <th>event</th>\n",
              "      <th>group</th>\n",
              "    </tr>\n",
              "  </thead>\n",
              "  <tbody>\n",
              "    <tr>\n",
              "      <th>0</th>\n",
              "      <td>{'venue_name': 'Bard &amp; Banker (Scottish Pub)',...</td>\n",
              "      <td>public</td>\n",
              "      <td>yes</td>\n",
              "      <td>0</td>\n",
              "      <td>{'member_id': 233634505, 'other_services': {'t...</td>\n",
              "      <td>1840881698</td>\n",
              "      <td>1592080526648</td>\n",
              "      <td>{'event_name': 'Monthly Social at the Bard and...</td>\n",
              "      <td>{'group_topics': [{'urlkey': 'webdesign', 'top...</td>\n",
              "    </tr>\n",
              "    <tr>\n",
              "      <th>1</th>\n",
              "      <td>{'venue_name': 'Online event', 'lon': 179.1962...</td>\n",
              "      <td>public</td>\n",
              "      <td>yes</td>\n",
              "      <td>0</td>\n",
              "      <td>{'member_id': 306172148, 'photo': 'https://sec...</td>\n",
              "      <td>1840881699</td>\n",
              "      <td>1592080527251</td>\n",
              "      <td>{'event_name': 'UX3B Bueno, Bonito, Barato.  D...</td>\n",
              "      <td>{'group_topics': [{'urlkey': 'softwaredev', 't...</td>\n",
              "    </tr>\n",
              "    <tr>\n",
              "      <th>2</th>\n",
              "      <td>{'venue_name': 'Online event', 'lon': 179.1962...</td>\n",
              "      <td>public</td>\n",
              "      <td>yes</td>\n",
              "      <td>0</td>\n",
              "      <td>{'member_id': 311087950, 'photo': 'https://sec...</td>\n",
              "      <td>1840881700</td>\n",
              "      <td>1592080527676</td>\n",
              "      <td>{'event_name': 'MotMeetupTour - \"DEV+QA not an...</td>\n",
              "      <td>{'group_topics': [{'urlkey': 'softwaredev', 't...</td>\n",
              "    </tr>\n",
              "    <tr>\n",
              "      <th>3</th>\n",
              "      <td>{'venue_name': 'Bard &amp; Banker (Scottish Pub)',...</td>\n",
              "      <td>public</td>\n",
              "      <td>yes</td>\n",
              "      <td>0</td>\n",
              "      <td>{'member_id': 233634505, 'other_services': {'t...</td>\n",
              "      <td>1840881698</td>\n",
              "      <td>1592080527000</td>\n",
              "      <td>{'event_name': 'Monthly Social at the Bard and...</td>\n",
              "      <td>{'group_topics': [{'urlkey': 'webdesign', 'top...</td>\n",
              "    </tr>\n",
              "    <tr>\n",
              "      <th>4</th>\n",
              "      <td>NaN</td>\n",
              "      <td>public</td>\n",
              "      <td>yes</td>\n",
              "      <td>5</td>\n",
              "      <td>{'member_id': 7903615, 'photo': 'https://secur...</td>\n",
              "      <td>1771140061</td>\n",
              "      <td>1592080527835</td>\n",
              "      <td>{'event_name': 'Daytime Card Class', 'event_id...</td>\n",
              "      <td>{'group_topics': [{'urlkey': 'craftswap', 'top...</td>\n",
              "    </tr>\n",
              "    <tr>\n",
              "      <th>...</th>\n",
              "      <td>...</td>\n",
              "      <td>...</td>\n",
              "      <td>...</td>\n",
              "      <td>...</td>\n",
              "      <td>...</td>\n",
              "      <td>...</td>\n",
              "      <td>...</td>\n",
              "      <td>...</td>\n",
              "      <td>...</td>\n",
              "    </tr>\n",
              "    <tr>\n",
              "      <th>255</th>\n",
              "      <td>{'venue_name': 'Online Event - TheFunSingles.c...</td>\n",
              "      <td>public</td>\n",
              "      <td>yes</td>\n",
              "      <td>0</td>\n",
              "      <td>{'member_id': 289412859, 'photo': 'https://sec...</td>\n",
              "      <td>1840881976</td>\n",
              "      <td>1592080795631</td>\n",
              "      <td>{'event_name': 'Online Speed Dating - Singles ...</td>\n",
              "      <td>{'group_topics': [{'urlkey': 'culture-exchange...</td>\n",
              "    </tr>\n",
              "    <tr>\n",
              "      <th>256</th>\n",
              "      <td>{'venue_name': 'Online Event - TheFunSingles.c...</td>\n",
              "      <td>public</td>\n",
              "      <td>yes</td>\n",
              "      <td>12</td>\n",
              "      <td>{'member_id': 289412859, 'photo': 'https://sec...</td>\n",
              "      <td>1840881976</td>\n",
              "      <td>1592080795814</td>\n",
              "      <td>{'event_name': 'Online Speed Dating - Singles ...</td>\n",
              "      <td>{'group_topics': [{'urlkey': 'culture-exchange...</td>\n",
              "    </tr>\n",
              "    <tr>\n",
              "      <th>257</th>\n",
              "      <td>{'venue_name': 'Online event', 'lon': 179.1962...</td>\n",
              "      <td>public</td>\n",
              "      <td>yes</td>\n",
              "      <td>0</td>\n",
              "      <td>{'member_id': 1237791, 'photo': 'https://secur...</td>\n",
              "      <td>1840881977</td>\n",
              "      <td>1592080795952</td>\n",
              "      <td>{'event_name': 'Earth Circle 8-Session Series:...</td>\n",
              "      <td>{'group_topics': [{'urlkey': 'hiking', 'topic_...</td>\n",
              "    </tr>\n",
              "    <tr>\n",
              "      <th>258</th>\n",
              "      <td>{'venue_name': 'Online event', 'lon': 179.1962...</td>\n",
              "      <td>public</td>\n",
              "      <td>yes</td>\n",
              "      <td>0</td>\n",
              "      <td>{'member_id': 23690981, 'photo': 'https://secu...</td>\n",
              "      <td>1840881978</td>\n",
              "      <td>1592080795987</td>\n",
              "      <td>{'event_name': 'Dealmakers Subgroup', 'event_i...</td>\n",
              "      <td>{'group_topics': [{'urlkey': 'professional-net...</td>\n",
              "    </tr>\n",
              "    <tr>\n",
              "      <th>259</th>\n",
              "      <td>{'venue_name': 'Anchor Family Success Center',...</td>\n",
              "      <td>public</td>\n",
              "      <td>yes</td>\n",
              "      <td>0</td>\n",
              "      <td>{'member_id': 311474445, 'member_name': 'Susan...</td>\n",
              "      <td>1840881979</td>\n",
              "      <td>1592080797419</td>\n",
              "      <td>{'event_name': 'TRI CHADD NJ Parent Support Gr...</td>\n",
              "      <td>{'group_topics': [{'urlkey': 'adults-with-adhd...</td>\n",
              "    </tr>\n",
              "  </tbody>\n",
              "</table>\n",
              "<p>260 rows × 9 columns</p>\n",
              "</div>"
            ],
            "text/plain": [
              "                                                 venue  ...                                              group\n",
              "0    {'venue_name': 'Bard & Banker (Scottish Pub)',...  ...  {'group_topics': [{'urlkey': 'webdesign', 'top...\n",
              "1    {'venue_name': 'Online event', 'lon': 179.1962...  ...  {'group_topics': [{'urlkey': 'softwaredev', 't...\n",
              "2    {'venue_name': 'Online event', 'lon': 179.1962...  ...  {'group_topics': [{'urlkey': 'softwaredev', 't...\n",
              "3    {'venue_name': 'Bard & Banker (Scottish Pub)',...  ...  {'group_topics': [{'urlkey': 'webdesign', 'top...\n",
              "4                                                  NaN  ...  {'group_topics': [{'urlkey': 'craftswap', 'top...\n",
              "..                                                 ...  ...                                                ...\n",
              "255  {'venue_name': 'Online Event - TheFunSingles.c...  ...  {'group_topics': [{'urlkey': 'culture-exchange...\n",
              "256  {'venue_name': 'Online Event - TheFunSingles.c...  ...  {'group_topics': [{'urlkey': 'culture-exchange...\n",
              "257  {'venue_name': 'Online event', 'lon': 179.1962...  ...  {'group_topics': [{'urlkey': 'hiking', 'topic_...\n",
              "258  {'venue_name': 'Online event', 'lon': 179.1962...  ...  {'group_topics': [{'urlkey': 'professional-net...\n",
              "259  {'venue_name': 'Anchor Family Success Center',...  ...  {'group_topics': [{'urlkey': 'adults-with-adhd...\n",
              "\n",
              "[260 rows x 9 columns]"
            ]
          },
          "metadata": {
            "tags": []
          },
          "execution_count": 21
        }
      ]
    },
    {
      "cell_type": "code",
      "metadata": {
        "id": "IEKXlbbc_4Eg",
        "colab_type": "code",
        "outputId": "d3988f2a-0fae-44de-f637-b909bfa070c3",
        "colab": {
          "base_uri": "https://localhost:8080/",
          "height": 204
        }
      },
      "source": [
        "# flattening the schema to create more tables\n",
        "event = pd.json_normalize(meetup_df['event'])\n",
        "event.head()"
      ],
      "execution_count": 0,
      "outputs": [
        {
          "output_type": "execute_result",
          "data": {
            "text/html": [
              "<div>\n",
              "<style scoped>\n",
              "    .dataframe tbody tr th:only-of-type {\n",
              "        vertical-align: middle;\n",
              "    }\n",
              "\n",
              "    .dataframe tbody tr th {\n",
              "        vertical-align: top;\n",
              "    }\n",
              "\n",
              "    .dataframe thead th {\n",
              "        text-align: right;\n",
              "    }\n",
              "</style>\n",
              "<table border=\"1\" class=\"dataframe\">\n",
              "  <thead>\n",
              "    <tr style=\"text-align: right;\">\n",
              "      <th></th>\n",
              "      <th>event_name</th>\n",
              "      <th>event_id</th>\n",
              "      <th>time</th>\n",
              "      <th>event_url</th>\n",
              "    </tr>\n",
              "  </thead>\n",
              "  <tbody>\n",
              "    <tr>\n",
              "      <th>0</th>\n",
              "      <td>Monthly Social at the Bard and Banker</td>\n",
              "      <td>rvhddqyccgbkb</td>\n",
              "      <td>1617840000000</td>\n",
              "      <td>https://www.meetup.com/UX-Victoria/events/2712...</td>\n",
              "    </tr>\n",
              "    <tr>\n",
              "      <th>1</th>\n",
              "      <td>UX3B Bueno, Bonito, Barato.  Desmitificando có...</td>\n",
              "      <td>271169788</td>\n",
              "      <td>1592431200000</td>\n",
              "      <td>https://www.meetup.com/Women-Who-Code-Buenos-A...</td>\n",
              "    </tr>\n",
              "    <tr>\n",
              "      <th>2</th>\n",
              "      <td>MotMeetupTour - \"DEV+QA not an odd couple\"</td>\n",
              "      <td>270991433</td>\n",
              "      <td>1592496000000</td>\n",
              "      <td>https://www.meetup.com/Ministry-of-Testing-Bar...</td>\n",
              "    </tr>\n",
              "    <tr>\n",
              "      <th>3</th>\n",
              "      <td>Monthly Social at the Bard and Banker</td>\n",
              "      <td>rvhddqyccgbkb</td>\n",
              "      <td>1617840000000</td>\n",
              "      <td>https://www.meetup.com/UX-Victoria/events/2712...</td>\n",
              "    </tr>\n",
              "    <tr>\n",
              "      <th>4</th>\n",
              "      <td>Daytime Card Class</td>\n",
              "      <td>vtrkdrybcpbbc</td>\n",
              "      <td>1605893400000</td>\n",
              "      <td>https://www.meetup.com/Pretty-Papers/events/25...</td>\n",
              "    </tr>\n",
              "  </tbody>\n",
              "</table>\n",
              "</div>"
            ],
            "text/plain": [
              "                                          event_name  ...                                          event_url\n",
              "0              Monthly Social at the Bard and Banker  ...  https://www.meetup.com/UX-Victoria/events/2712...\n",
              "1  UX3B Bueno, Bonito, Barato.  Desmitificando có...  ...  https://www.meetup.com/Women-Who-Code-Buenos-A...\n",
              "2        MotMeetupTour - \"DEV+QA not an odd couple\"   ...  https://www.meetup.com/Ministry-of-Testing-Bar...\n",
              "3              Monthly Social at the Bard and Banker  ...  https://www.meetup.com/UX-Victoria/events/2712...\n",
              "4                                 Daytime Card Class  ...  https://www.meetup.com/Pretty-Papers/events/25...\n",
              "\n",
              "[5 rows x 4 columns]"
            ]
          },
          "metadata": {
            "tags": []
          },
          "execution_count": 22
        }
      ]
    },
    {
      "cell_type": "code",
      "metadata": {
        "id": "whjbn5-2AkcQ",
        "colab_type": "code",
        "outputId": "8a0c8ce1-360b-4de6-8ea4-c08b740de5a9",
        "colab": {
          "base_uri": "https://localhost:8080/",
          "height": 221
        }
      },
      "source": [
        "# selecting only the event names and counting, automatic sorting\n",
        "event['event_name'].value_counts()\n"
      ],
      "execution_count": 0,
      "outputs": [
        {
          "output_type": "execute_result",
          "data": {
            "text/plain": [
              "Make New Friends - Singles Mixer (36-47)                                            12\n",
              "Monthly Social at the Bard and Banker                                                8\n",
              "Earth Circle 8-Session Series: Connect with the Nature Mystic in You!                8\n",
              "Online Speed Dating - Single Professionals (26-38)                                   8\n",
              "Online Speed Dating - Single Professionals (36-47 group)                             4\n",
              "                                                                                    ..\n",
              "Monday Scramble                                                                      1\n",
              "Ernst Blochs Atheism in Christianity                                                 1\n",
              "Dialog auf Deutsch                                                                   1\n",
              "Introdução ao R: passo a passo para iniciantes.                                      1\n",
              "Days of the Bagnold Summer -MondayMovie- Chat at 7, watch at 8 and discuss at 10     1\n",
              "Name: event_name, Length: 176, dtype: int64"
            ]
          },
          "metadata": {
            "tags": []
          },
          "execution_count": 23
        }
      ]
    },
    {
      "cell_type": "code",
      "metadata": {
        "id": "fBhkTCHXBueJ",
        "colab_type": "code",
        "outputId": "37458a99-1a5e-4db7-8e3f-a52739ba6901",
        "colab": {
          "base_uri": "https://localhost:8080/",
          "height": 221
        }
      },
      "source": [
        "member = pd.json_normalize(meetup_df['member'])\n",
        "print(len(member))\n",
        "member.head()"
      ],
      "execution_count": 0,
      "outputs": [
        {
          "output_type": "stream",
          "text": [
            "260\n"
          ],
          "name": "stdout"
        },
        {
          "output_type": "execute_result",
          "data": {
            "text/html": [
              "<div>\n",
              "<style scoped>\n",
              "    .dataframe tbody tr th:only-of-type {\n",
              "        vertical-align: middle;\n",
              "    }\n",
              "\n",
              "    .dataframe tbody tr th {\n",
              "        vertical-align: top;\n",
              "    }\n",
              "\n",
              "    .dataframe thead th {\n",
              "        text-align: right;\n",
              "    }\n",
              "</style>\n",
              "<table border=\"1\" class=\"dataframe\">\n",
              "  <thead>\n",
              "    <tr style=\"text-align: right;\">\n",
              "      <th></th>\n",
              "      <th>member_id</th>\n",
              "      <th>photo</th>\n",
              "      <th>member_name</th>\n",
              "      <th>other_services.twitter.identifier</th>\n",
              "      <th>other_services.facebook.identifier</th>\n",
              "    </tr>\n",
              "  </thead>\n",
              "  <tbody>\n",
              "    <tr>\n",
              "      <th>0</th>\n",
              "      <td>233634505</td>\n",
              "      <td>https://secure.meetupstatic.com/photos/member/...</td>\n",
              "      <td>Shane</td>\n",
              "      <td>@csGoodman</td>\n",
              "      <td>10159164933783916</td>\n",
              "    </tr>\n",
              "    <tr>\n",
              "      <th>1</th>\n",
              "      <td>306172148</td>\n",
              "      <td>https://secure.meetupstatic.com/photos/member/...</td>\n",
              "      <td>Gita Magaña</td>\n",
              "      <td>NaN</td>\n",
              "      <td>NaN</td>\n",
              "    </tr>\n",
              "    <tr>\n",
              "      <th>2</th>\n",
              "      <td>311087950</td>\n",
              "      <td>https://secure.meetupstatic.com/photos/member/...</td>\n",
              "      <td>Maja Hołyńska</td>\n",
              "      <td>NaN</td>\n",
              "      <td>NaN</td>\n",
              "    </tr>\n",
              "    <tr>\n",
              "      <th>3</th>\n",
              "      <td>233634505</td>\n",
              "      <td>https://secure.meetupstatic.com/photos/member/...</td>\n",
              "      <td>Shane</td>\n",
              "      <td>@csGoodman</td>\n",
              "      <td>10159164933783916</td>\n",
              "    </tr>\n",
              "    <tr>\n",
              "      <th>4</th>\n",
              "      <td>7903615</td>\n",
              "      <td>https://secure.meetupstatic.com/photos/member/...</td>\n",
              "      <td>Lucinda</td>\n",
              "      <td>NaN</td>\n",
              "      <td>NaN</td>\n",
              "    </tr>\n",
              "  </tbody>\n",
              "</table>\n",
              "</div>"
            ],
            "text/plain": [
              "   member_id  ... other_services.facebook.identifier\n",
              "0  233634505  ...                  10159164933783916\n",
              "1  306172148  ...                                NaN\n",
              "2  311087950  ...                                NaN\n",
              "3  233634505  ...                  10159164933783916\n",
              "4    7903615  ...                                NaN\n",
              "\n",
              "[5 rows x 5 columns]"
            ]
          },
          "metadata": {
            "tags": []
          },
          "execution_count": 24
        }
      ]
    },
    {
      "cell_type": "code",
      "metadata": {
        "id": "bFLDJiF4Awji",
        "colab_type": "code",
        "outputId": "f433cc1d-7e1b-4722-e377-585540388c58",
        "colab": {
          "base_uri": "https://localhost:8080/",
          "height": 221
        }
      },
      "source": [
        "# how many people were registering for multiple events?\n",
        "member['member_id'].value_counts()"
      ],
      "execution_count": 0,
      "outputs": [
        {
          "output_type": "execute_result",
          "data": {
            "text/plain": [
              "48669252     12\n",
              "233634505     8\n",
              "276217313     6\n",
              "289164420     6\n",
              "3639869       6\n",
              "             ..\n",
              "275239180     1\n",
              "10507595      1\n",
              "226993989     1\n",
              "278133572     1\n",
              "209920514     1\n",
              "Name: member_id, Length: 172, dtype: int64"
            ]
          },
          "metadata": {
            "tags": []
          },
          "execution_count": 25
        }
      ]
    },
    {
      "cell_type": "code",
      "metadata": {
        "id": "H-TSfA3rCuTx",
        "colab_type": "code",
        "outputId": "e3c64568-8ae7-462c-d2f2-32bf4f81c3ed",
        "colab": {
          "base_uri": "https://localhost:8080/",
          "height": 221
        }
      },
      "source": [
        "# flattening nested unstructured data\n",
        "group = pd.json_normalize(meetup_df['group'], record_path='group_topics', meta=['group_country', 'group_city', 'group_state', 'group_name', 'group_lon', 'group_lat'], errors='ignore')\n",
        "print(len(group))\n",
        "group.head()"
      ],
      "execution_count": 0,
      "outputs": [
        {
          "output_type": "stream",
          "text": [
            "3060\n"
          ],
          "name": "stdout"
        },
        {
          "output_type": "execute_result",
          "data": {
            "text/html": [
              "<div>\n",
              "<style scoped>\n",
              "    .dataframe tbody tr th:only-of-type {\n",
              "        vertical-align: middle;\n",
              "    }\n",
              "\n",
              "    .dataframe tbody tr th {\n",
              "        vertical-align: top;\n",
              "    }\n",
              "\n",
              "    .dataframe thead th {\n",
              "        text-align: right;\n",
              "    }\n",
              "</style>\n",
              "<table border=\"1\" class=\"dataframe\">\n",
              "  <thead>\n",
              "    <tr style=\"text-align: right;\">\n",
              "      <th></th>\n",
              "      <th>urlkey</th>\n",
              "      <th>topic_name</th>\n",
              "      <th>group_country</th>\n",
              "      <th>group_city</th>\n",
              "      <th>group_state</th>\n",
              "      <th>group_name</th>\n",
              "      <th>group_lon</th>\n",
              "      <th>group_lat</th>\n",
              "    </tr>\n",
              "  </thead>\n",
              "  <tbody>\n",
              "    <tr>\n",
              "      <th>0</th>\n",
              "      <td>webdesign</td>\n",
              "      <td>Web Design</td>\n",
              "      <td>ca</td>\n",
              "      <td>Victoria</td>\n",
              "      <td>BC</td>\n",
              "      <td>UX Victoria</td>\n",
              "      <td>-123.45</td>\n",
              "      <td>48.46</td>\n",
              "    </tr>\n",
              "    <tr>\n",
              "      <th>1</th>\n",
              "      <td>graphicdesign</td>\n",
              "      <td>Graphic Design</td>\n",
              "      <td>ca</td>\n",
              "      <td>Victoria</td>\n",
              "      <td>BC</td>\n",
              "      <td>UX Victoria</td>\n",
              "      <td>-123.45</td>\n",
              "      <td>48.46</td>\n",
              "    </tr>\n",
              "    <tr>\n",
              "      <th>2</th>\n",
              "      <td>ixd</td>\n",
              "      <td>Interaction Design</td>\n",
              "      <td>ca</td>\n",
              "      <td>Victoria</td>\n",
              "      <td>BC</td>\n",
              "      <td>UX Victoria</td>\n",
              "      <td>-123.45</td>\n",
              "      <td>48.46</td>\n",
              "    </tr>\n",
              "    <tr>\n",
              "      <th>3</th>\n",
              "      <td>user-experience</td>\n",
              "      <td>User Experience</td>\n",
              "      <td>ca</td>\n",
              "      <td>Victoria</td>\n",
              "      <td>BC</td>\n",
              "      <td>UX Victoria</td>\n",
              "      <td>-123.45</td>\n",
              "      <td>48.46</td>\n",
              "    </tr>\n",
              "    <tr>\n",
              "      <th>4</th>\n",
              "      <td>usability</td>\n",
              "      <td>Usability</td>\n",
              "      <td>ca</td>\n",
              "      <td>Victoria</td>\n",
              "      <td>BC</td>\n",
              "      <td>UX Victoria</td>\n",
              "      <td>-123.45</td>\n",
              "      <td>48.46</td>\n",
              "    </tr>\n",
              "  </tbody>\n",
              "</table>\n",
              "</div>"
            ],
            "text/plain": [
              "            urlkey          topic_name  ... group_lon group_lat\n",
              "0        webdesign          Web Design  ...   -123.45     48.46\n",
              "1    graphicdesign      Graphic Design  ...   -123.45     48.46\n",
              "2              ixd  Interaction Design  ...   -123.45     48.46\n",
              "3  user-experience     User Experience  ...   -123.45     48.46\n",
              "4        usability           Usability  ...   -123.45     48.46\n",
              "\n",
              "[5 rows x 8 columns]"
            ]
          },
          "metadata": {
            "tags": []
          },
          "execution_count": 26
        }
      ]
    },
    {
      "cell_type": "code",
      "metadata": {
        "id": "2cI458vNiQA1",
        "colab_type": "code",
        "outputId": "765ba507-6bf7-4c19-fa92-a4589afe02a6",
        "colab": {
          "base_uri": "https://localhost:8080/",
          "height": 221
        }
      },
      "source": [
        "# what is the most popular topics people attend?\n",
        "group['topic_name'].value_counts()"
      ],
      "execution_count": 0,
      "outputs": [
        {
          "output_type": "execute_result",
          "data": {
            "text/plain": [
              "Outdoors                            61\n",
              "Social                              60\n",
              "New In Town                         47\n",
              "Social Networking                   43\n",
              "Hiking                              40\n",
              "                                    ..\n",
              "Soccer Training                      1\n",
              "Web Comics                           1\n",
              "Soccer Tournaments                   1\n",
              "Buy & Hold Real Estate Investing     1\n",
              "Google App Engine                    1\n",
              "Name: topic_name, Length: 1006, dtype: int64"
            ]
          },
          "metadata": {
            "tags": []
          },
          "execution_count": 13
        }
      ]
    },
    {
      "cell_type": "code",
      "metadata": {
        "id": "0z7FqYSO8e80",
        "colab_type": "code",
        "outputId": "a0a2cd26-19da-48e5-f60a-fe5675919405",
        "colab": {
          "base_uri": "https://localhost:8080/",
          "height": 238
        }
      },
      "source": [
        "# what is the most popular topic indicating their country\n",
        "group[['topic_name', 'group_country']].groupby(['group_country']).topic_name.value_counts().sort_values(ascending=False)"
      ],
      "execution_count": 0,
      "outputs": [
        {
          "output_type": "execute_result",
          "data": {
            "text/plain": [
              "group_country  topic_name      \n",
              "us             Outdoors            47\n",
              "               Social              45\n",
              "               New In Town         34\n",
              "               Hiking              34\n",
              "               Singles             30\n",
              "                                   ..\n",
              "               Divorce Recovery     1\n",
              "               Divine Guidance      1\n",
              "               Dinner Parties       1\n",
              "               Dinner               1\n",
              "ar             Blockchain           1\n",
              "Name: topic_name, Length: 1321, dtype: int64"
            ]
          },
          "metadata": {
            "tags": []
          },
          "execution_count": 14
        }
      ]
    },
    {
      "cell_type": "code",
      "metadata": {
        "id": "rtL6_aiVpbNc",
        "colab_type": "code",
        "outputId": "276cde00-076a-480f-bd43-7f3d59beb27f",
        "colab": {
          "base_uri": "https://localhost:8080/",
          "height": 265
        }
      },
      "source": [
        "# where are people rsvp'ing from around the world \"image a map\"\n",
        "import matplotlib.pyplot as plt\n",
        "plt.scatter(x=group['group_lon'], y=group['group_lat'])\n",
        "plt.show()"
      ],
      "execution_count": 0,
      "outputs": [
        {
          "output_type": "display_data",
          "data": {
            "image/png": "[encoded data removed]",
            "text/plain": [
              "<Figure size 432x288 with 1 Axes>"
            ]
          },
          "metadata": {
            "tags": [],
            "needs_background": "light"
          }
        }
      ]
    },
    {
      "cell_type": "markdown",
      "metadata": {
        "id": "SWb1QrlOeClr",
        "colab_type": "text"
      },
      "source": [
        "# New Section"
      ]
    },
    {
      "cell_type": "code",
      "metadata": {
        "id": "JK702pFyFdv1",
        "colab_type": "code",
        "colab": {}
      },
      "source": [
        "# filtering us events\n",
        "us_events = group[group['group_country']=='us']"
      ],
      "execution_count": 0,
      "outputs": []
    },
    {
      "cell_type": "code",
      "metadata": {
        "id": "9zaIfgmiG-6C",
        "colab_type": "code",
        "outputId": "ac405645-9e0f-4c35-b89c-f8239a6d0260",
        "colab": {
          "base_uri": "https://localhost:8080/",
          "height": 221
        }
      },
      "source": [
        "# filtering cs events\n",
        "ca_events = us_events[us_events['group_state']=='CA'][['topic_name', 'group_state','group_city']]. \\\n",
        "groupby(['group_state','group_city']).topic_name.value_counts().sort_values(ascending=False)\n",
        "ca_events.head(10)"
      ],
      "execution_count": 0,
      "outputs": [
        {
          "output_type": "execute_result",
          "data": {
            "text/plain": [
              "group_state  group_city   topic_name           \n",
              "CA           Sebastopol   Book Club                6\n",
              "                          Fiction                  6\n",
              "                          Novel Reading            6\n",
              "                          Readers                  6\n",
              "                          Reading                  6\n",
              "             Lafayette    Zen Meditation           4\n",
              "             Los Angeles  Fitness                  4\n",
              "             Fullerton    Social                   4\n",
              "                          Sports and Recreation    4\n",
              "                          Volleyball               4\n",
              "Name: topic_name, dtype: int64"
            ]
          },
          "metadata": {
            "tags": []
          },
          "execution_count": 17
        }
      ]
    },
    {
      "cell_type": "code",
      "metadata": {
        "id": "5P3ekF1NBdmm",
        "colab_type": "code",
        "outputId": "25db01ee-64dc-422f-94a0-d5e835474e00",
        "colab": {
          "base_uri": "https://localhost:8080/",
          "height": 221
        }
      },
      "source": [
        "# filtering LA events\n",
        "my_events = group[group['group_city']=='Los Angeles']['topic_name'].value_counts()\n",
        "my_events.name = 'Count'\n",
        "my_events.index.name = 'Event'\n",
        "my_events.head(10)"
      ],
      "execution_count": 0,
      "outputs": [
        {
          "output_type": "execute_result",
          "data": {
            "text/plain": [
              "Event\n",
              "Adventure            4\n",
              "Travel               4\n",
              "Fitness              4\n",
              "Social               4\n",
              "Singles              4\n",
              "Hiking               4\n",
              "Outdoors             4\n",
              "Cocktails            2\n",
              "Social Networking    2\n",
              "Road Trips           2\n",
              "Name: Count, dtype: int64"
            ]
          },
          "metadata": {
            "tags": []
          },
          "execution_count": 18
        }
      ]
    },
    {
      "cell_type": "code",
      "metadata": {
        "id": "fulvh2lcESuL",
        "colab_type": "code",
        "colab": {}
      },
      "source": [
        "# save new events in your city and enjoy!\n",
        "my_events.to_csv('my_events.csv', sep=',', encoding='utf-8', index = True)"
      ],
      "execution_count": 0,
      "outputs": []
    },
    {
      "cell_type": "markdown",
      "metadata": {
        "id": "OU0fNlZfQ4n6",
        "colab_type": "text"
      },
      "source": [
        "## Questions:\n",
        "- How can this data pipeline be automated? \n",
        "- Why would be want to sort through unstructured data and structure it?\n",
        "- Aggregations (value_counts) were part of this analysis, what other analytic studies can be developed?\n",
        "- What other data streams can we obtain? \n",
        "\n",
        "Reference:\n",
        "[AWS IoT](https://github.com/aws/aws-iot-device-sdk-python)\n",
        "[RaspberryPi](https://www.raspberrypistarterkits.com/guide/raspberry-pi-accelerometer-gyroscope/)"
      ]
    },
    {
      "cell_type": "code",
      "metadata": {
        "id": "gVr-0sq0S-GQ",
        "colab_type": "code",
        "colab": {}
      },
      "source": [
        ""
      ],
      "execution_count": 0,
      "outputs": []
    }
  ]
}